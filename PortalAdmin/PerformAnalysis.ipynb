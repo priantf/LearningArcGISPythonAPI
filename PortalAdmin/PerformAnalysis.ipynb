{
 "cells": [
  {
   "cell_type": "code",
   "execution_count": 1,
   "metadata": {},
   "outputs": [],
   "source": [
    "'''\n",
    "\n",
    "Este notebook tem por objetivo apresentar uma demo das funcionalidades presentes na Python API para administração\n",
    "do Portal/AGOL da organização\n",
    "\n",
    "O primeiro passo é importar o módulo da API\n",
    "\n",
    "'''\n",
    "\n",
    "from arcgis.gis import GIS\n"
   ]
  },
  {
   "cell_type": "code",
   "execution_count": 35,
   "metadata": {},
   "outputs": [],
   "source": [
    "'''\n",
    "\n",
    "Para ter acesso às funções é preciso realizar o login. \n",
    "\n",
    "Para ter acesso à todas funcionalidades deve-se logar com o usuário administrador.\n",
    "\n",
    "A Python API fornece diversas formas de realizar a autenticação, como OAuth 2.0, por exemplo\n",
    "https://developers.arcgis.com/python/guide/working-with-different-authentication-schemes/\n",
    "\n",
    "'''\n",
    "\n",
    "gis = GIS(\"url portal/AGOL\", \"usuario\", \"senha\")"
   ]
  },
  {
   "cell_type": "code",
   "execution_count": 36,
   "metadata": {},
   "outputs": [
    {
     "data": {
      "text/html": [
       "<div class=\"9item_container\" style=\"height: auto; overflow: hidden; border: 1px solid #cfcfcf; border-radius: 2px; background: #f6fafa; line-height: 1.21429em; padding: 10px;\">\n",
       "                    <div class=\"item_left\" style=\"width: 210px; float: left;\">\n",
       "                       <a href='https://solutions.optimusgis.com.br/portal//home/user.html?user=admin' target='_blank'>\n",
       "                        <img src='https://solutions.optimusgis.com.br/portal//home/js/arcgisonline/css/images/no-user-thumb.jpg' class=\"itemThumbnail\">\n",
       "                       </a>\n",
       "                    </div>\n",
       "\n",
       "                    <div class=\"item_right\" style=\"float: none; width: auto; overflow: hidden;\">\n",
       "                        <a href='https://solutions.optimusgis.com.br/portal//home/user.html?user=admin' target='_blank'><b>Portal Administrator</b>\n",
       "                        </a>\n",
       "                        <br/><br/><b>Bio</b>: None\n",
       "                        <br/><b>First Name</b>: Portal\n",
       "                        <br/><b>Last Name</b>: Administrator\n",
       "                        <br/><b>Username</b>: admin\n",
       "                        <br/><b>Joined</b>: June 07, 2019\n",
       "\n",
       "                    </div>\n",
       "                </div>\n",
       "                "
      ],
      "text/plain": [
       "<User username:admin>"
      ]
     },
     "execution_count": 36,
     "metadata": {},
     "output_type": "execute_result"
    }
   ],
   "source": [
    "'''\n",
    "\n",
    "Depois de realizado o login, é possível acessar os métodos relacionados ao usuário logado\n",
    "\n",
    "'''\n",
    "\n",
    "gis.users.me"
   ]
  },
  {
   "cell_type": "code",
   "execution_count": 37,
   "metadata": {},
   "outputs": [
    {
     "data": {
      "text/plain": [
       "'org_admin'"
      ]
     },
     "execution_count": 37,
     "metadata": {},
     "output_type": "execute_result"
    }
   ],
   "source": [
    "'''\n",
    "\n",
    "Um exemplo de método é a verificação do papel na organização pertencente ao usuário logado\n",
    "\n",
    "'''\n",
    "\n",
    "gis.users.me.role"
   ]
  },
  {
   "cell_type": "code",
   "execution_count": 11,
   "metadata": {},
   "outputs": [
    {
     "data": {
      "text/plain": [
       "<Role name: Gerenciador de Mapas, description: Irá gerenciar os mapas da organização>"
      ]
     },
     "execution_count": 11,
     "metadata": {},
     "output_type": "execute_result"
    }
   ],
   "source": [
    "'''\n",
    "\n",
    "Através da API é possível criar papéis dentro da organização informando o nome, uma descrição \n",
    "e os privilégios que os usuários com esse papel terão.\n",
    "\n",
    "'''\n",
    "\n",
    "\n",
    "privilege = ['portal:publisher:publishTiles',\n",
    "                 'portal:user:createItem',\n",
    "                 'portal:user:joinGroup']\n",
    "\n",
    "gis.users.roles.create(name=\"Gerenciador de Mapas\", \n",
    "                      description=\"Irá gerenciar os mapas da organização\",\n",
    "                      privileges=privilege)"
   ]
  },
  {
   "cell_type": "code",
   "execution_count": 14,
   "metadata": {},
   "outputs": [
    {
     "data": {
      "image/png": "[encoded data removed]"
     },
     "execution_count": 14,
     "metadata": {},
     "output_type": "execute_result"
    }
   ],
   "source": [
    "# Role criado no Portal\n",
    "\n",
    "from IPython.display import Image\n",
    "Image(\"Roles.png\")"
   ]
  },
  {
   "cell_type": "code",
   "execution_count": 60,
   "metadata": {},
   "outputs": [
    {
     "data": {
      "text/html": [
       "<div class=\"9item_container\" style=\"height: auto; overflow: hidden; border: 1px solid #cfcfcf; border-radius: 2px; background: #f6fafa; line-height: 1.21429em; padding: 10px;\">\n",
       "                    <div class=\"item_left\" style=\"width: 210px; float: left;\">\n",
       "                       <a href='https://solutions.optimusgis.com.br/portal//home/user.html?user=user_test' target='_blank'>\n",
       "                        <img src='https://solutions.optimusgis.com.br/portal//home/js/arcgisonline/css/images/no-user-thumb.jpg' class=\"itemThumbnail\">\n",
       "                       </a>\n",
       "                    </div>\n",
       "\n",
       "                    <div class=\"item_right\" style=\"float: none; width: auto; overflow: hidden;\">\n",
       "                        <a href='https://solutions.optimusgis.com.br/portal//home/user.html?user=user_test' target='_blank'><b>Usuário Teste</b>\n",
       "                        </a>\n",
       "                        <br/><br/><b>Bio</b>: Demonstração de como criar um usuário no Portal via Python\n",
       "                        <br/><b>First Name</b>: Usuário\n",
       "                        <br/><b>Last Name</b>: Teste\n",
       "                        <br/><b>Username</b>: user_test\n",
       "                        <br/><b>Joined</b>: February 18, 2021\n",
       "\n",
       "                    </div>\n",
       "                </div>\n",
       "                "
      ],
      "text/plain": [
       "<User username:user_test>"
      ]
     },
     "execution_count": 60,
     "metadata": {},
     "output_type": "execute_result"
    }
   ],
   "source": [
    "'''\n",
    "\n",
    "Da mesma forma que é possível criar novos usuários.\n",
    "\n",
    "'''\n",
    "\n",
    "user = gis.users.create(username = 'user_test',\n",
    "                      password = 'senha@12345',\n",
    "                      firstname = 'Usuário',\n",
    "                      lastname = 'Teste',\n",
    "                      email = 'teste@esri.com',\n",
    "                      description = 'Demonstração de como criar um usuário no Portal via Python',\n",
    "                      role = 'Viewer',\n",
    "                      level = 1,\n",
    "                      user_type = 'viewer',\n",
    "                      provider = 'arcgis')\n",
    "\n",
    "user"
   ]
  },
  {
   "cell_type": "code",
   "execution_count": null,
   "metadata": {},
   "outputs": [],
   "source": [
    "'''\n",
    "\n",
    "A criação de usuários depende das licenças disponíveis. \n",
    "Quando não houver licenças, a API retornará um erro\n",
    "\n",
    "'''"
   ]
  },
  {
   "cell_type": "code",
   "execution_count": 61,
   "metadata": {},
   "outputs": [
    {
     "data": {
      "text/plain": [
       "'testeAPI'"
      ]
     },
     "execution_count": 61,
     "metadata": {},
     "output_type": "execute_result"
    }
   ],
   "source": [
    "'''\n",
    "\n",
    "A API também permite excluir usuários. Para isso é necessário seguir um passo primeiro:\n",
    "\n",
    "Assegurar-se de que o conteúdo pertencente àquele usuário seja repassado para um novo.\n",
    "\n",
    "\n",
    "Portanto, podemos instanciar o usuário que queremos excluir, ter acesso aos itens dele, \n",
    "copiá-los para outro local e então excluir a conta.\n",
    "\n",
    "'''\n",
    "\n",
    "# Instanciando o usuário \n",
    "user_test = gis.users.get('user_test')\n",
    "\n",
    "# Lendo todos os itens pertencentes ao usuário\n",
    "items = user_test.items()\n",
    "\n",
    "items[0].title"
   ]
  },
  {
   "cell_type": "code",
   "execution_count": 63,
   "metadata": {},
   "outputs": [
    {
     "data": {
      "text/plain": [
       "True"
      ]
     },
     "execution_count": 63,
     "metadata": {},
     "output_type": "execute_result"
    }
   ],
   "source": [
    "# Repassando o item para um novo usuário\n",
    "\n",
    "items[0].reassign_to(target_owner = 'admin', target_folder= 'DEV')"
   ]
  },
  {
   "cell_type": "code",
   "execution_count": 51,
   "metadata": {},
   "outputs": [
    {
     "data": {
      "text/plain": [
       "True"
      ]
     },
     "execution_count": 51,
     "metadata": {},
     "output_type": "execute_result"
    }
   ],
   "source": [
    "# Por fim, podemos deletar a conta do usuário\n",
    "\n",
    "user_test.delete()"
   ]
  },
  {
   "cell_type": "code",
   "execution_count": null,
   "metadata": {},
   "outputs": [],
   "source": [
    "'''\n",
    "\n",
    "A Python API fornece uma gama de funcionalidades para a administração do Portal/AGOL.\n",
    "O que vimos foi apenas uma amostra das otimizações que são possíveis.\n",
    "Para visualizar outras funcionalidades da API acesse a documentação oficial da ESRI https://developers.arcgis.com/python/api-reference \n",
    "\n",
    "'''"
   ]
  }
 ],
 "metadata": {
  "kernelspec": {
   "display_name": "ArcGISPro",
   "language": "Python",
   "name": "python3"
  },
  "language_info": {
   "file_extension": ".py",
   "name": "python",
   "version": "3"
  }
 },
 "nbformat": 4,
 "nbformat_minor": 2
}
